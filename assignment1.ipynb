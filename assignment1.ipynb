{
  "nbformat": 4,
  "nbformat_minor": 0,
  "metadata": {
    "colab": {
      "provenance": [],
      "authorship_tag": "ABX9TyPxPjsknvlXyodRhK7uQ6ha",
      "include_colab_link": true
    },
    "kernelspec": {
      "name": "python3",
      "display_name": "Python 3"
    },
    "language_info": {
      "name": "python"
    }
  },
  "cells": [
    {
      "cell_type": "markdown",
      "metadata": {
        "id": "view-in-github",
        "colab_type": "text"
      },
      "source": [
        "<a href=\"https://colab.research.google.com/github/Devakathevikas/EXCLR/blob/main/assignment1.ipynb\" target=\"_parent\"><img src=\"https://colab.research.google.com/assets/colab-badge.svg\" alt=\"Open In Colab\"/></a>"
      ]
    },
    {
      "cell_type": "markdown",
      "source": [
        "ASSIGNMENT -1"
      ],
      "metadata": {
        "id": "BVuoIYa6XdMX"
      }
    },
    {
      "cell_type": "code",
      "source": [
        "#1.Write a program in Jupyter Notebook to declare variables of different data types (integer, float, string, and boolean). Print each variable and its type.\n",
        "integer_var = 42\n",
        "float_var = 3.14\n",
        "string_var = \"Hello, WORLD!\"\n",
        "boolean_var = True\n",
        "print(\"Integer Variable:\")\n",
        "print(f\"Value: {integer_var}, Type: {type(integer_var)}\\n\")\n",
        "print(\"Float Variable:\")\n",
        "print(f\"Value: {float_var}, Type: {type(float_var)}\\n\")\n",
        "print(\"String Variable:\")\n",
        "print(f\"Value: '{string_var}', Type: {type(string_var)}\\n\")\n",
        "print(\"Boolean Variable:\")\n",
        "print(f\"Value: {boolean_var}, Type: {type(boolean_var)}\")"
      ],
      "metadata": {
        "colab": {
          "base_uri": "https://localhost:8080/"
        },
        "id": "oKEqxLcgXl-L",
        "outputId": "4d428742-5d66-4d1e-a337-876ff3918c16"
      },
      "execution_count": null,
      "outputs": [
        {
          "output_type": "stream",
          "name": "stdout",
          "text": [
            "Integer Variable:\n",
            "Value: 42, Type: <class 'int'>\n",
            "\n",
            "Float Variable:\n",
            "Value: 3.14, Type: <class 'float'>\n",
            "\n",
            "String Variable:\n",
            "Value: 'Hello, WORLD!', Type: <class 'str'>\n",
            "\n",
            "Boolean Variable:\n",
            "Value: True, Type: <class 'bool'>\n"
          ]
        }
      ]
    },
    {
      "cell_type": "code",
      "source": [],
      "metadata": {
        "id": "MUSLsNwXYMQt"
      },
      "execution_count": null,
      "outputs": []
    }
  ]
}