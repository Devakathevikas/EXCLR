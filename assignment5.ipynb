{
  "nbformat": 4,
  "nbformat_minor": 0,
  "metadata": {
    "colab": {
      "provenance": [],
      "authorship_tag": "ABX9TyMg742gk4KLlhzd4GJg5wdQ",
      "include_colab_link": true
    },
    "kernelspec": {
      "name": "python3",
      "display_name": "Python 3"
    },
    "language_info": {
      "name": "python"
    }
  },
  "cells": [
    {
      "cell_type": "markdown",
      "metadata": {
        "id": "view-in-github",
        "colab_type": "text"
      },
      "source": [
        "<a href=\"https://colab.research.google.com/github/Devakathevikas/EXCLR/blob/main/assignment5.ipynb\" target=\"_parent\"><img src=\"https://colab.research.google.com/assets/colab-badge.svg\" alt=\"Open In Colab\"/></a>"
      ]
    },
    {
      "cell_type": "markdown",
      "source": [
        "ASSIGNMENT -5"
      ],
      "metadata": {
        "id": "5A8BoBQSZ47G"
      }
    },
    {
      "cell_type": "code",
      "source": [
        "#5.Write a Python program to calculate the frequency of each word in a given text. Print the words and their corresponding counts\n",
        "from collections import Counter\n",
        "def calculate_word_frequency(text):\n",
        "    words = text.lower().split()\n",
        "    word_count = Counter(words)\n",
        "    print(\"Word frequencies:\")\n",
        "    for word, count in word_count.items():\n",
        "        print(f\"{word}: {count}\")\n",
        "text = input(\"Enter a text: \")\n",
        "calculate_word_frequency(text)"
      ],
      "metadata": {
        "colab": {
          "base_uri": "https://localhost:8080/"
        },
        "id": "kKbIHHOTZ887",
        "outputId": "fe99383f-b225-455f-efcc-0296f937f74e"
      },
      "execution_count": null,
      "outputs": [
        {
          "output_type": "stream",
          "name": "stdout",
          "text": [
            "Enter a text: one\n",
            "Word frequencies:\n",
            "one: 1\n"
          ]
        }
      ]
    }
  ]
}