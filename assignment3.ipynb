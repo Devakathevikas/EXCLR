{
  "nbformat": 4,
  "nbformat_minor": 0,
  "metadata": {
    "colab": {
      "provenance": [],
      "authorship_tag": "ABX9TyOJ3ZHtWRaNGQZPUkQUzIN/",
      "include_colab_link": true
    },
    "kernelspec": {
      "name": "python3",
      "display_name": "Python 3"
    },
    "language_info": {
      "name": "python"
    }
  },
  "cells": [
    {
      "cell_type": "markdown",
      "metadata": {
        "id": "view-in-github",
        "colab_type": "text"
      },
      "source": [
        "<a href=\"https://colab.research.google.com/github/Devakathevikas/EXCLR/blob/main/assignment3.ipynb\" target=\"_parent\"><img src=\"https://colab.research.google.com/assets/colab-badge.svg\" alt=\"Open In Colab\"/></a>"
      ]
    },
    {
      "cell_type": "markdown",
      "source": [
        "ASSIGNMENT -3"
      ],
      "metadata": {
        "id": "qCkhDQA1ZLa2"
      }
    },
    {
      "cell_type": "code",
      "source": [
        "#3.Write a Python program that takes a student's marks in three subjects as input.\n",
        "#If the average is greater than or equal to 90, print \"Grade: A\".\n",
        "#If the average is between 80 and 89, print \"Grade: B\".\n",
        "#If the average is between 70 and 79, print \"Grade: C\".\n",
        "#Otherwise, print \"Grade: Fail\".\n",
        "try:\n",
        "    subject1 = float(input(\"Enter marks for Subject 1: \"))\n",
        "    subject2 = float(input(\"Enter marks for Subject 2: \"))\n",
        "    subject3 = float(input(\"Enter marks for Subject 3: \"))\n",
        "    average = (subject1 + subject2 + subject3) / 3\n",
        "    if average >= 90:\n",
        "        grade = \"A\"\n",
        "    elif 80 <= average < 90:\n",
        "        grade = \"B\"\n",
        "    elif 70 <= average < 80:\n",
        "        grade = \"C\"\n",
        "    else:\n",
        "        grade = \"Fail\"\n",
        "    print(f\"Average Marks: {average:.2f}\")\n",
        "    print(f\"Grade: {grade}\")\n",
        "except ValueError:\n",
        "    print(\"Invalid input. Please enter numeric values for marks.\")"
      ],
      "metadata": {
        "colab": {
          "base_uri": "https://localhost:8080/"
        },
        "id": "l_wv00RgZPK6",
        "outputId": "7fd8e37a-f135-440c-aaf6-cf16043edd1d"
      },
      "execution_count": null,
      "outputs": [
        {
          "name": "stdout",
          "output_type": "stream",
          "text": [
            "Enter marks for Subject 1: 12\n",
            "Enter marks for Subject 2: 80\n"
          ]
        }
      ]
    }
  ]
}