{
  "nbformat": 4,
  "nbformat_minor": 0,
  "metadata": {
    "colab": {
      "provenance": [],
      "authorship_tag": "ABX9TyO5QSTKzMbSjgtUhiL1aACV",
      "include_colab_link": true
    },
    "kernelspec": {
      "name": "python3",
      "display_name": "Python 3"
    },
    "language_info": {
      "name": "python"
    }
  },
  "cells": [
    {
      "cell_type": "markdown",
      "metadata": {
        "id": "view-in-github",
        "colab_type": "text"
      },
      "source": [
        "<a href=\"https://colab.research.google.com/github/Devakathevikas/EXCLR/blob/main/assignment9.ipynb\" target=\"_parent\"><img src=\"https://colab.research.google.com/assets/colab-badge.svg\" alt=\"Open In Colab\"/></a>"
      ]
    },
    {
      "cell_type": "markdown",
      "source": [
        "ASSIGNMENT -9"
      ],
      "metadata": {
        "id": "7Y49eEWRE7Nq"
      }
    },
    {
      "cell_type": "code",
      "source": [
        "## Write a Python function to clean a given text by removing special\n",
        "## characters and converting it to lowercase. Test it with the\n",
        " ## input: 'Hello, World! Welcome to NLP 101.'\n"
      ],
      "metadata": {
        "id": "Fj_WJ23bFIOJ"
      },
      "execution_count": null,
      "outputs": []
    },
    {
      "cell_type": "code",
      "source": [
        "import re\n",
        "\n",
        "def clean_text(text):\n",
        "    # Remove special characters using regex and convert to lowercase\n",
        "    cleaned_text = re.sub(r'[^a-zA-Z0-9\\s]', '', text).lower()\n",
        "    return cleaned_text\n",
        "\n",
        "# Test the function with the input\n",
        "input_text = 'Hello, World! Welcome to NLP 101.'\n",
        "cleaned_text = clean_text(input_text)\n",
        "print(\"Original text:\", input_text)\n",
        "print(\"Cleaned text:\", cleaned_text)"
      ],
      "metadata": {
        "colab": {
          "base_uri": "https://localhost:8080/"
        },
        "id": "HgfvKnnuFNr0",
        "outputId": "a3776f1f-2bcb-4cff-eed8-2e2b04ae7aaa"
      },
      "execution_count": 1,
      "outputs": [
        {
          "output_type": "stream",
          "name": "stdout",
          "text": [
            "Original text: Hello, World! Welcome to NLP 101.\n",
            "Cleaned text: hello world welcome to nlp 101\n"
          ]
        }
      ]
    }
  ]
}