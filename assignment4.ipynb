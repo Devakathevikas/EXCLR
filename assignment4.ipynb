{
  "nbformat": 4,
  "nbformat_minor": 0,
  "metadata": {
    "colab": {
      "provenance": [],
      "authorship_tag": "ABX9TyPZCnlnXB0OPERC5EqbMUBY",
      "include_colab_link": true
    },
    "kernelspec": {
      "name": "python3",
      "display_name": "Python 3"
    },
    "language_info": {
      "name": "python"
    }
  },
  "cells": [
    {
      "cell_type": "markdown",
      "metadata": {
        "id": "view-in-github",
        "colab_type": "text"
      },
      "source": [
        "<a href=\"https://colab.research.google.com/github/Devakathevikas/EXCLR/blob/main/assignment4.ipynb\" target=\"_parent\"><img src=\"https://colab.research.google.com/assets/colab-badge.svg\" alt=\"Open In Colab\"/></a>"
      ]
    },
    {
      "cell_type": "markdown",
      "source": [
        "ASSIGNMENT -4"
      ],
      "metadata": {
        "id": "1fMc4UwqZW4T"
      }
    },
    {
      "cell_type": "code",
      "source": [
        "#4.Write a Python program to calculate the sum of all even numbers between 1 and a given positive integer n\n",
        "def sum_of_even_numbers(n):\n",
        "    if n < 1:\n",
        "        return 0\n",
        "    total_sum = 0\n",
        "    for i in range(2, n + 1, 2):\n",
        "        total_sum += i\n",
        "    return total_sum\n",
        "try:\n",
        "    n = int(input(\"Enter a positive integer: \"))\n",
        "    if n <= 0:\n",
        "        print(\"Please enter a positive integer greater than 0.\")\n",
        "    else:\n",
        "        result = sum_of_even_numbers(n)\n",
        "        print(f\"The sum of all even numbers between 1 and {n} is: {result}\")\n",
        "except ValueError:\n",
        "    print(\"Invalid input. Please enter a valid positive integer.\")"
      ],
      "metadata": {
        "id": "oXXO2o7TZZmo",
        "colab": {
          "base_uri": "https://localhost:8080/"
        },
        "outputId": "768c4091-bb61-4a0b-c95e-b1c812e3b458"
      },
      "execution_count": null,
      "outputs": [
        {
          "output_type": "stream",
          "name": "stdout",
          "text": [
            "Enter a positive integer: 12\n",
            "The sum of all even numbers between 1 and 12 is: 42\n"
          ]
        }
      ]
    }
  ]
}