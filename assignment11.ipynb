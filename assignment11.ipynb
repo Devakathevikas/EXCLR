{
  "nbformat": 4,
  "nbformat_minor": 0,
  "metadata": {
    "colab": {
      "provenance": [],
      "authorship_tag": "ABX9TyNTWSAEMrzINgQGD7YdSH4M",
      "include_colab_link": true
    },
    "kernelspec": {
      "name": "python3",
      "display_name": "Python 3"
    },
    "language_info": {
      "name": "python"
    }
  },
  "cells": [
    {
      "cell_type": "markdown",
      "metadata": {
        "id": "view-in-github",
        "colab_type": "text"
      },
      "source": [
        "<a href=\"https://colab.research.google.com/github/Devakathevikas/EXCLR/blob/main/assignment11.ipynb\" target=\"_parent\"><img src=\"https://colab.research.google.com/assets/colab-badge.svg\" alt=\"Open In Colab\"/></a>"
      ]
    },
    {
      "cell_type": "markdown",
      "source": [
        "ASSIGNMENT -11"
      ],
      "metadata": {
        "id": "jWbWlVFjC1Fl"
      }
    },
    {
      "cell_type": "code",
      "source": [
        "## Write a Python script to fetch and print the title of a webpage using the 'requests'\n",
        "## and 'BeautifulSoup' libraries. Test it with the URL: 'https://example.com'"
      ],
      "metadata": {
        "id": "-3xjYm5VC3wK"
      },
      "execution_count": 1,
      "outputs": []
    },
    {
      "cell_type": "code",
      "source": [
        "pip install beautifulsoup4"
      ],
      "metadata": {
        "colab": {
          "base_uri": "https://localhost:8080/"
        },
        "id": "Mf72VcvXC_CC",
        "outputId": "6f4a2b1e-83c3-46c9-a8c9-37e3be29f086"
      },
      "execution_count": 2,
      "outputs": [
        {
          "output_type": "stream",
          "name": "stdout",
          "text": [
            "Requirement already satisfied: beautifulsoup4 in /usr/local/lib/python3.11/dist-packages (4.12.3)\n",
            "Requirement already satisfied: soupsieve>1.2 in /usr/local/lib/python3.11/dist-packages (from beautifulsoup4) (2.6)\n"
          ]
        }
      ]
    },
    {
      "cell_type": "code",
      "source": [
        "import requests\n",
        "from bs4 import BeautifulSoup\n",
        "\n",
        "def fetch_webpage_title(url):\n",
        "    try:\n",
        "        # Send a GET request to the URL\n",
        "        response = requests.get(url)\n",
        "        # Check if the request was successful\n",
        "        response.raise_for_status()\n",
        "\n",
        "        # Parse the HTML content using BeautifulSoup\n",
        "        soup = BeautifulSoup(response.text, 'html.parser')\n",
        "        # Extract the title tag\n",
        "        title = soup.title.string if soup.title else \"No title found\"\n",
        "\n",
        "        return title\n",
        "    except requests.exceptions.RequestException as e:\n",
        "        return f\"An error occurred: {e}\"\n",
        "\n",
        "# Test the function with the given URL\n",
        "url = 'https://example.com'\n",
        "webpage_title = fetch_webpage_title(url)\n",
        "print(\"Webpage Title:\", webpage_title)"
      ],
      "metadata": {
        "colab": {
          "base_uri": "https://localhost:8080/"
        },
        "id": "Fq-wuaNtDCaa",
        "outputId": "1e3c5b64-2a6c-4460-e290-564e53c146b7"
      },
      "execution_count": 3,
      "outputs": [
        {
          "output_type": "stream",
          "name": "stdout",
          "text": [
            "Webpage Title: Example Domain\n"
          ]
        }
      ]
    }
  ]
}