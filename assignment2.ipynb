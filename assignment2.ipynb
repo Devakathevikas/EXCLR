{
  "nbformat": 4,
  "nbformat_minor": 0,
  "metadata": {
    "colab": {
      "provenance": [],
      "authorship_tag": "ABX9TyMFPxl2LLZHgOB37vnf+Cz5",
      "include_colab_link": true
    },
    "kernelspec": {
      "name": "python3",
      "display_name": "Python 3"
    },
    "language_info": {
      "name": "python"
    }
  },
  "cells": [
    {
      "cell_type": "markdown",
      "metadata": {
        "id": "view-in-github",
        "colab_type": "text"
      },
      "source": [
        "<a href=\"https://colab.research.google.com/github/Devakathevikas/EXCLR/blob/main/assignment2.ipynb\" target=\"_parent\"><img src=\"https://colab.research.google.com/assets/colab-badge.svg\" alt=\"Open In Colab\"/></a>"
      ]
    },
    {
      "cell_type": "markdown",
      "source": [
        "ASSIGNMENT -2"
      ],
      "metadata": {
        "id": "-mJISb9lYekL"
      }
    },
    {
      "cell_type": "code",
      "source": [
        "#2.Create a List, tuple and Dictionary with 5 elements in it and how to access few elements based on the index. Try  with different examples\n",
        "my_list = [10, 20, 30, 40, 50]\n",
        "print(\"List:\", my_list)\n",
        "print(\"First element of List:\", my_list[0])\n",
        "print(\"Last element of List:\", my_list[-1])\n",
        "print(\"Slice elements (2nd to 4th):\", my_list[1:4])\n",
        "print(\"\\n\")\n",
        "my_tuple = (\"apple\", \"banana\", \"cherry\", \"date\", \"elderberry\")\n",
        "print(\"Tuple:\", my_tuple)\n",
        "print(\"Second element of Tuple:\", my_tuple[1])\n",
        "print(\"Last element of Tuple:\", my_tuple[-1])\n",
        "print(\"Slice elements (3rd to last):\", my_tuple[2:])\n",
        "print(\"\\n\")\n",
        "my_dict = {\n",
        "    \"name\": \"Alice\",\n",
        "    \"age\": 25,\n",
        "    \"city\": \"New York\",\n",
        "    \"country\": \"USA\",\n",
        "    \"hobby\": \"reading\"\n",
        "}\n",
        "print(\"Dictionary:\", my_dict)\n",
        "print(\"Value of key 'name':\", my_dict[\"name\"])\n",
        "print(\"Value of key 'hobby':\", my_dict.get(\"hobby\"))\n",
        "print(\"Keys of the Dictionary:\", list(my_dict.keys()))\n",
        "print(\"Values of the Dictionary:\", list(my_dict.values()))"
      ],
      "metadata": {
        "colab": {
          "base_uri": "https://localhost:8080/"
        },
        "id": "IVnllonhYiI2",
        "outputId": "ae735229-4a7f-4f0c-c948-e5b59b838af0"
      },
      "execution_count": null,
      "outputs": [
        {
          "output_type": "stream",
          "name": "stdout",
          "text": [
            "List: [10, 20, 30, 40, 50]\n",
            "First element of List: 10\n",
            "Last element of List: 50\n",
            "Slice elements (2nd to 4th): [20, 30, 40]\n",
            "\n",
            "\n",
            "Tuple: ('apple', 'banana', 'cherry', 'date', 'elderberry')\n",
            "Second element of Tuple: banana\n",
            "Last element of Tuple: elderberry\n",
            "Slice elements (3rd to last): ('cherry', 'date', 'elderberry')\n",
            "\n",
            "\n",
            "Dictionary: {'name': 'Alice', 'age': 25, 'city': 'New York', 'country': 'USA', 'hobby': 'reading'}\n",
            "Value of key 'name': Alice\n",
            "Value of key 'hobby': reading\n",
            "Keys of the Dictionary: ['name', 'age', 'city', 'country', 'hobby']\n",
            "Values of the Dictionary: ['Alice', 25, 'New York', 'USA', 'reading']\n"
          ]
        }
      ]
    }
  ]
}