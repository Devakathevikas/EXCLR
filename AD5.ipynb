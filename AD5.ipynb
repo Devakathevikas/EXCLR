{
  "nbformat": 4,
  "nbformat_minor": 0,
  "metadata": {
    "colab": {
      "provenance": [],
      "authorship_tag": "ABX9TyOcqWhWN2PwVZKzrCf6Xe2V",
      "include_colab_link": true
    },
    "kernelspec": {
      "name": "python3",
      "display_name": "Python 3"
    },
    "language_info": {
      "name": "python"
    }
  },
  "cells": [
    {
      "cell_type": "markdown",
      "metadata": {
        "id": "view-in-github",
        "colab_type": "text"
      },
      "source": [
        "<a href=\"https://colab.research.google.com/github/Devakathevikas/EXCLR/blob/main/AD5.ipynb\" target=\"_parent\"><img src=\"https://colab.research.google.com/assets/colab-badge.svg\" alt=\"Open In Colab\"/></a>"
      ]
    },
    {
      "cell_type": "code",
      "execution_count": 1,
      "metadata": {
        "id": "nQC2CCwDv3O4"
      },
      "outputs": [],
      "source": [
        "# Installing emot library\n",
        "#!pip install emot"
      ]
    },
    {
      "cell_type": "code",
      "source": [
        "!pip install emot"
      ],
      "metadata": {
        "colab": {
          "base_uri": "https://localhost:8080/"
        },
        "id": "aIEEJg69xPeZ",
        "outputId": "89c7d445-f5ce-4ac7-ea22-d077a905e185"
      },
      "execution_count": 6,
      "outputs": [
        {
          "output_type": "stream",
          "name": "stdout",
          "text": [
            "Collecting emot\n",
            "  Downloading emot-3.1-py3-none-any.whl.metadata (396 bytes)\n",
            "Downloading emot-3.1-py3-none-any.whl (61 kB)\n",
            "\u001b[2K   \u001b[90m━━━━━━━━━━━━━━━━━━━━━━━━━━━━━━━━━━━━━━━━\u001b[0m \u001b[32m61.5/61.5 kB\u001b[0m \u001b[31m1.4 MB/s\u001b[0m eta \u001b[36m0:00:00\u001b[0m\n",
            "\u001b[?25hInstalling collected packages: emot\n",
            "Successfully installed emot-3.1\n"
          ]
        }
      ]
    },
    {
      "cell_type": "code",
      "source": [
        "# create sample text data with emoji\n",
        "text1 = \"What are you saying🤔?.I am the boss 😎, and why are you so 🤨\""
      ],
      "metadata": {
        "id": "mR490SrWwQHl"
      },
      "execution_count": 3,
      "outputs": []
    },
    {
      "cell_type": "code",
      "source": [
        "import re\n",
        "from emot.emo_unicode import UNICODE_EMOJI\n",
        "from emot.emo_unicode import EMOTICONS_EMO"
      ],
      "metadata": {
        "id": "mM0QMBtiwUwF"
      },
      "execution_count": 7,
      "outputs": []
    },
    {
      "cell_type": "code",
      "source": [
        "def converting_emojis(text):\n",
        "  for emot in UNICODE_EMOJI:\n",
        "    text = text.replace(emot,\"_\".join(UNICODE_EMOJI[emot].replace(\",\",\"\") .replace(\":\",\"\")))\n",
        "  return text\n",
        "\n",
        "converting_emojis(text1)"
      ],
      "metadata": {
        "colab": {
          "base_uri": "https://localhost:8080/",
          "height": 54
        },
        "id": "kGbzsISvxY1P",
        "outputId": "78e7dc27-95f0-4bd0-efb1-3b1eff80d9d0"
      },
      "execution_count": 15,
      "outputs": [
        {
          "output_type": "execute_result",
          "data": {
            "text/plain": [
              "'What are you sayingt_h_i_n_k_i_n_g___f_a_c_e?.I am the boss s_m_i_l_i_n_g___f_a_c_e___w_i_t_h___s_u_n_g_l_a_s_s_e_s, and why are you so f_a_c_e___w_i_t_h___r_a_i_s_e_d___e_y_e_b_r_o_w'"
            ],
            "application/vnd.google.colaboratory.intrinsic+json": {
              "type": "string"
            }
          },
          "metadata": {},
          "execution_count": 15
        }
      ]
    },
    {
      "cell_type": "code",
      "source": [
        "def emoji_removal(string):\n",
        "  emoji_uniocdes=re.compile(\"[\"\n",
        "                          u\"\\U0001F600-\\U0001F64F\"\n",
        "                          u\"\\U0001F300-\\U0001F5FF\"\n",
        "                          u\"\\U0001F680-\\U0001F6FF\"\n",
        "                          u\"\\U0001F1E0-\\U0001F1FF\"\n",
        "                          u\"\\U00002702-\\U000027B0\"\n",
        "                          u\"\\U000024C2-\\U0001F937\"\n",
        "                          u\"\\U00010000-\\U0010ffff\"\n",
        "                          u\"\\u2640-\\u2642\"\n",
        "                          u\"\\u2600-\\u2B55\"\n",
        "                          u\"\\u200d\"\n",
        "                          u\"\\u23cf\"\n",
        "                          u\"\\ufe0f\"\n",
        "                          u\"\\u3030\"\"]+\", flags=re.UNICODE)\n",
        "  return emoji_uniocdes.sub(r'',string)\n",
        "# Assuming text1 is defined somewhere\n",
        "# emoji_removal(text1)\n",
        "emoji_removal(text1)"
      ],
      "metadata": {
        "colab": {
          "base_uri": "https://localhost:8080/",
          "height": 36
        },
        "id": "ZRTImTxtx45D",
        "outputId": "bc8f80ea-6815-4386-a98d-067b0505ed35"
      },
      "execution_count": 17,
      "outputs": [
        {
          "output_type": "execute_result",
          "data": {
            "text/plain": [
              "'What are you saying?.I am the boss , and why are you so '"
            ],
            "application/vnd.google.colaboratory.intrinsic+json": {
              "type": "string"
            }
          },
          "metadata": {},
          "execution_count": 17
        }
      ]
    },
    {
      "cell_type": "code",
      "source": [],
      "metadata": {
        "id": "uCXRQQkh1FHi"
      },
      "execution_count": null,
      "outputs": []
    }
  ]
}