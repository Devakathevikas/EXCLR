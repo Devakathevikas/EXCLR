{
  "nbformat": 4,
  "nbformat_minor": 0,
  "metadata": {
    "colab": {
      "provenance": [],
      "authorship_tag": "ABX9TyMoE/lVkRY52zAQtnE6nAba",
      "include_colab_link": true
    },
    "kernelspec": {
      "name": "python3",
      "display_name": "Python 3"
    },
    "language_info": {
      "name": "python"
    }
  },
  "cells": [
    {
      "cell_type": "markdown",
      "metadata": {
        "id": "view-in-github",
        "colab_type": "text"
      },
      "source": [
        "<a href=\"https://colab.research.google.com/github/Devakathevikas/EXCLR/blob/main/assignment26.ipynb\" target=\"_parent\"><img src=\"https://colab.research.google.com/assets/colab-badge.svg\" alt=\"Open In Colab\"/></a>"
      ]
    },
    {
      "cell_type": "markdown",
      "source": [
        "ASSIGNMENT -26"
      ],
      "metadata": {
        "id": "JcUyxq6ZoH8c"
      }
    },
    {
      "cell_type": "code",
      "source": [
        "##Write a Python program to calculate the cosine similarity between two strings using the Scikit-learn library. You can use the\n",
        "##  'TfidfVectorizer' class to transform the text into vectors"
      ],
      "metadata": {
        "id": "7ktrebGuoMSs"
      },
      "execution_count": 1,
      "outputs": []
    },
    {
      "cell_type": "code",
      "source": [
        "!pip install scikit-learn"
      ],
      "metadata": {
        "id": "MznXFhLKoUl8",
        "outputId": "935f7773-a7c3-44b0-a242-d090b191432a",
        "colab": {
          "base_uri": "https://localhost:8080/"
        }
      },
      "execution_count": 2,
      "outputs": [
        {
          "output_type": "stream",
          "name": "stdout",
          "text": [
            "Requirement already satisfied: scikit-learn in /usr/local/lib/python3.11/dist-packages (1.6.1)\n",
            "Requirement already satisfied: numpy>=1.19.5 in /usr/local/lib/python3.11/dist-packages (from scikit-learn) (1.26.4)\n",
            "Requirement already satisfied: scipy>=1.6.0 in /usr/local/lib/python3.11/dist-packages (from scikit-learn) (1.13.1)\n",
            "Requirement already satisfied: joblib>=1.2.0 in /usr/local/lib/python3.11/dist-packages (from scikit-learn) (1.4.2)\n",
            "Requirement already satisfied: threadpoolctl>=3.1.0 in /usr/local/lib/python3.11/dist-packages (from scikit-learn) (3.5.0)\n"
          ]
        }
      ]
    },
    {
      "cell_type": "code",
      "source": [
        "from sklearn.feature_extraction.text import TfidfVectorizer\n",
        "from sklearn.metrics.pairwise import cosine_similarity\n",
        "\n",
        "def calculate_cosine_similarity(string1, string2):\n",
        "    try:\n",
        "        # Create a TfidfVectorizer\n",
        "        vectorizer = TfidfVectorizer()\n",
        "\n",
        "        # Transform the strings into TF-IDF vectors\n",
        "        tfidf_matrix = vectorizer.fit_transform([string1, string2])\n",
        "\n",
        "        # Calculate the cosine similarity\n",
        "        cosine_sim = cosine_similarity(tfidf_matrix[0:1], tfidf_matrix[1:2])[0][0]\n",
        "\n",
        "        return cosine_sim\n",
        "    except Exception as e:\n",
        "        print(f\"An error occurred: {e}\")\n",
        "        return None\n",
        "\n",
        "# Example strings\n",
        "string1 = \"I love programming and data science.\"\n",
        "string2 = \"Data science and programming are my passions.\"\n",
        "\n",
        "# Calculate and print the cosine similarity\n",
        "similarity = calculate_cosine_similarity(string1, string2)\n",
        "print(f\"Cosine Similarity: {similarity:.4f}\")"
      ],
      "metadata": {
        "id": "IDFI8pXCoYbG",
        "outputId": "91d1075f-94ef-4bcf-bda9-4c1fdee49c59",
        "colab": {
          "base_uri": "https://localhost:8080/"
        }
      },
      "execution_count": 3,
      "outputs": [
        {
          "output_type": "stream",
          "name": "stdout",
          "text": [
            "Cosine Similarity: 0.5194\n"
          ]
        }
      ]
    }
  ]
}