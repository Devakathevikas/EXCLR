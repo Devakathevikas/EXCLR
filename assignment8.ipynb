{
  "nbformat": 4,
  "nbformat_minor": 0,
  "metadata": {
    "colab": {
      "provenance": [],
      "authorship_tag": "ABX9TyNpxArwSou/K4+8W0alUqy1",
      "include_colab_link": true
    },
    "kernelspec": {
      "name": "python3",
      "display_name": "Python 3"
    },
    "language_info": {
      "name": "python"
    }
  },
  "cells": [
    {
      "cell_type": "markdown",
      "metadata": {
        "id": "view-in-github",
        "colab_type": "text"
      },
      "source": [
        "<a href=\"https://colab.research.google.com/github/Devakathevikas/EXCLR/blob/main/assignment8.ipynb\" target=\"_parent\"><img src=\"https://colab.research.google.com/assets/colab-badge.svg\" alt=\"Open In Colab\"/></a>"
      ]
    },
    {
      "cell_type": "markdown",
      "source": [
        "ASSIGNMENT -8\n"
      ],
      "metadata": {
        "id": "9Q0Lb8mJHQ7Y"
      }
    },
    {
      "cell_type": "code",
      "source": [
        "import nltk\n",
        "nltk.download('punkt_tab')"
      ],
      "metadata": {
        "id": "nwI07g97HphW",
        "outputId": "581fc678-741d-456b-a0e4-57d74eb48f2b",
        "colab": {
          "base_uri": "https://localhost:8080/"
        }
      },
      "execution_count": 2,
      "outputs": [
        {
          "output_type": "stream",
          "name": "stderr",
          "text": [
            "[nltk_data] Downloading package punkt_tab to /root/nltk_data...\n",
            "[nltk_data]   Unzipping tokenizers/punkt_tab.zip.\n"
          ]
        },
        {
          "output_type": "execute_result",
          "data": {
            "text/plain": [
              "True"
            ]
          },
          "metadata": {},
          "execution_count": 2
        }
      ]
    },
    {
      "cell_type": "code",
      "source": [
        "import nltk\n",
        "nltk.download('punkt')\n",
        "def tokenize_paragraph(paragraph):\n",
        "    sentences = nltk.sent_tokenize(paragraph)\n",
        "    words = nltk.word_tokenize(paragraph)\n",
        "    return sentences, words\n",
        "sample_paragraph = \"\"\"\n",
        "Tokenization is the process of breaking a text into smaller units. These units can be sentences or words.\n",
        "It's a crucial step in text preprocessing for natural language processing tasks.\n",
        "\"\"\"\n",
        "sentences, words = tokenize_paragraph(sample_paragraph)\n",
        "print(\"Sentences:\")\n",
        "for i, sentence in enumerate(sentences, 1):\n",
        "    print(f\"{i}: {sentence}\")\n",
        "print(\"\\nWords:\")\n",
        "print(words)"
      ],
      "metadata": {
        "colab": {
          "base_uri": "https://localhost:8080/"
        },
        "id": "1QwmwmncHTFI",
        "outputId": "33dd1dde-8fd8-4221-a499-2d73e25ef291"
      },
      "execution_count": 3,
      "outputs": [
        {
          "output_type": "stream",
          "name": "stdout",
          "text": [
            "Sentences:\n",
            "1: \n",
            "Tokenization is the process of breaking a text into smaller units.\n",
            "2: These units can be sentences or words.\n",
            "3: It's a crucial step in text preprocessing for natural language processing tasks.\n",
            "\n",
            "Words:\n",
            "['Tokenization', 'is', 'the', 'process', 'of', 'breaking', 'a', 'text', 'into', 'smaller', 'units', '.', 'These', 'units', 'can', 'be', 'sentences', 'or', 'words', '.', 'It', \"'s\", 'a', 'crucial', 'step', 'in', 'text', 'preprocessing', 'for', 'natural', 'language', 'processing', 'tasks', '.']\n"
          ]
        },
        {
          "output_type": "stream",
          "name": "stderr",
          "text": [
            "[nltk_data] Downloading package punkt to /root/nltk_data...\n",
            "[nltk_data]   Package punkt is already up-to-date!\n"
          ]
        }
      ]
    }
  ]
}