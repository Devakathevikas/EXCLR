{
  "nbformat": 4,
  "nbformat_minor": 0,
  "metadata": {
    "colab": {
      "provenance": [],
      "authorship_tag": "ABX9TyNoXV+aa+CpkTBOVYM4yUaK",
      "include_colab_link": true
    },
    "kernelspec": {
      "name": "python3",
      "display_name": "Python 3"
    },
    "language_info": {
      "name": "python"
    }
  },
  "cells": [
    {
      "cell_type": "markdown",
      "metadata": {
        "id": "view-in-github",
        "colab_type": "text"
      },
      "source": [
        "<a href=\"https://colab.research.google.com/github/Devakathevikas/EXCLR/blob/main/assignment32.ipynb\" target=\"_parent\"><img src=\"https://colab.research.google.com/assets/colab-badge.svg\" alt=\"Open In Colab\"/></a>"
      ]
    },
    {
      "cell_type": "markdown",
      "source": [
        "ASSIGNMENT -32"
      ],
      "metadata": {
        "id": "7ISmF9KnpHcA"
      }
    },
    {
      "cell_type": "code",
      "source": [
        "## Write a Python program to load a text file, perform tokenization, calculate the term frequency (TF) of each token,\n",
        "## and display the top 5 most frequent tokens."
      ],
      "metadata": {
        "id": "fy7veOw2pJxi"
      },
      "execution_count": null,
      "outputs": []
    },
    {
      "cell_type": "code",
      "source": [
        "import string\n",
        "from collections import Counter\n",
        "from nltk.tokenize import word_tokenize\n",
        "import nltk\n",
        "\n",
        "# Download necessary NLTK data (only required the first time)\n",
        "nltk.download('punkt')\n",
        "\n",
        "def calculate_term_frequency(file_path, top_n=5):\n",
        "    try:\n",
        "        # Load the text file\n",
        "        with open(file_path, 'r', encoding='utf-8') as file:\n",
        "            text = file.read()\n",
        "\n",
        "        # Tokenize the text\n",
        "        tokens = word_tokenize(text)\n",
        "\n",
        "        # Convert tokens to lowercase and filter out punctuation\n",
        "        words = [word.lower() for word in tokens if word.isalpha()]\n",
        "\n",
        "        # Calculate term frequency using Counter\n",
        "        term_frequency = Counter(words)\n",
        "\n",
        "        # Get the top N most frequent tokens\n",
        "        most_common = term_frequency.most_common(top_n)\n",
        "\n",
        "        # Display the results\n",
        "        print(f\"Top {top_n} most frequent tokens:\")\n",
        "        for word, count in most_common:\n",
        "            print(f\"{word}: {count}\")\n",
        "\n",
        "    except FileNotFoundError:\n",
        "        print(\"Error: The specified file was not found.\")\n",
        "    except Exception as e:\n",
        "        print(f\"An error occurred: {e}\")\n",
        "\n",
        "# Specify the path to your text file\n",
        "file_path = \"example.txt\"  # Replace with the path to your text file\n",
        "\n",
        "# Perform the calculation and display results\n",
        "calculate_term_frequency(file_path)"
      ],
      "metadata": {
        "colab": {
          "base_uri": "https://localhost:8080/"
        },
        "id": "yWjHDQ1IpYe9",
        "outputId": "28277837-a7f1-4cd2-e6c0-693bdfd3d7ae"
      },
      "execution_count": 1,
      "outputs": [
        {
          "output_type": "stream",
          "name": "stderr",
          "text": [
            "[nltk_data] Downloading package punkt to /root/nltk_data...\n",
            "[nltk_data]   Unzipping tokenizers/punkt.zip.\n"
          ]
        },
        {
          "output_type": "stream",
          "name": "stdout",
          "text": [
            "Error: The specified file was not found.\n"
          ]
        }
      ]
    }
  ]
}