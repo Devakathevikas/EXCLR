{
  "nbformat": 4,
  "nbformat_minor": 0,
  "metadata": {
    "colab": {
      "provenance": [],
      "authorship_tag": "ABX9TyPRWPOucgfdJlM4sE3AVmaL",
      "include_colab_link": true
    },
    "kernelspec": {
      "name": "python3",
      "display_name": "Python 3"
    },
    "language_info": {
      "name": "python"
    }
  },
  "cells": [
    {
      "cell_type": "markdown",
      "metadata": {
        "id": "view-in-github",
        "colab_type": "text"
      },
      "source": [
        "<a href=\"https://colab.research.google.com/github/Devakathevikas/EXCLR/blob/main/11_3.ipynb\" target=\"_parent\"><img src=\"https://colab.research.google.com/assets/colab-badge.svg\" alt=\"Open In Colab\"/></a>"
      ]
    },
    {
      "cell_type": "code",
      "execution_count": 1,
      "metadata": {
        "id": "va2djASr-d5R"
      },
      "outputs": [],
      "source": [
        "import google.generativeai as genai\n",
        "from google.colab import userdata\n",
        "\n",
        "GOOGLE_API_KEY=userdata.get('GOOGLE_API_KEY')\n",
        "genai.configure(api_key=GOOGLE_API_KEY)"
      ]
    },
    {
      "cell_type": "code",
      "source": [
        "import pathlib\n",
        "import textwrap\n",
        "\n",
        "from IPython.display import display, Markdown\n",
        "def to_markdown(text):\n",
        "  text = text.replace('•', '  *')\n",
        "  return Markdown(textwrap.indent(text, '> ', predicate=lambda _: True))"
      ],
      "metadata": {
        "id": "ie06uZTb_E-Q"
      },
      "execution_count": 2,
      "outputs": []
    },
    {
      "cell_type": "code",
      "source": [
        "import PIL.Image\n",
        "img = PIL.Image.open('food.jpg')\n",
        "\n",
        "img\n",
        "model = genai.GenerativeModel('gemini-1.5-flash')\n",
        "response = model.generate_content([\"Write a short, engaging blog post based on this picture. \\nIt should include a description of the meal in the photo and talk about my journey meal prepping.\", img])\n",
        "response.resolve()"
      ],
      "metadata": {
        "id": "YC5cMRZI_M6N"
      },
      "execution_count": 8,
      "outputs": []
    },
    {
      "cell_type": "code",
      "source": [
        "to_markdown(response.text)"
      ],
      "metadata": {
        "colab": {
          "base_uri": "https://localhost:8080/",
          "height": 460
        },
        "id": "eGetHT27AA-X",
        "outputId": "e4bfecfe-8e39-49bb-a234-2dba9cf21705"
      },
      "execution_count": 9,
      "outputs": [
        {
          "output_type": "execute_result",
          "data": {
            "text/plain": [
              "<IPython.core.display.Markdown object>"
            ],
            "text/markdown": "> ## My Meal Prep Journey: From Chaos to Colourful Containers!\n> \n> Let's be honest, weekday lunches were once a blurry haze of questionable takeout and sad desk salads.  But then, I discovered the magic of meal prepping!  And the result? These vibrant beauties!\n> \n> The picture shows two glass containers, each overflowing with a delicious-looking teriyaki chicken and veggie bowl. Fluffy white rice forms the base, topped with tender chunks of chicken, vibrant orange and red bell peppers, and healthy florets of broccoli. It's a balanced and colourful meal that shouts \"healthy and delicious!\"\n> \n> \n> My meal prep journey hasn't been without its bumps. Initially, it felt overwhelming – the chopping, the cooking, the portioning... It was a lot!  I started small, focusing on just one or two meals at a time.  I found that prepping on a Sunday afternoon, while listening to a podcast, made the process much more enjoyable. Gradually, I experimented with different recipes, finding combinations I loved and could easily replicate.\n> \n> \n> Now, meal prepping isn't just about convenience; it's about intentionality.  It allows me to control exactly what I eat, ensuring I get enough vegetables, protein, and healthy carbs.  Plus, having these colourful containers ready to go in the fridge motivates me to make healthier choices throughout the week.  It’s a win-win for my taste buds and my waistline!\n> \n> So, if you're thinking about starting your own meal prep journey, my advice is: start small, be patient with yourself, and most importantly, have fun experimenting with flavours!  You might just surprise yourself with how much you enjoy it – and the delicious results!\n"
          },
          "metadata": {},
          "execution_count": 9
        }
      ]
    },
    {
      "cell_type": "code",
      "source": [
        "response = model.generate_content([\"Generate an accurate caption for the image.\",img])\n",
        "print(response.text)"
      ],
      "metadata": {
        "colab": {
          "base_uri": "https://localhost:8080/",
          "height": 418
        },
        "id": "EFNc7PnJAEmj",
        "outputId": "9a11ab56-a844-4ef5-84d4-345014833523"
      },
      "execution_count": 11,
      "outputs": [
        {
          "output_type": "stream",
          "name": "stdout",
          "text": [
            "Here are a few caption options for the image:\n",
            "\n",
            "**Option 1 (Simple & Descriptive):**\n",
            "\n",
            "> Healthy and delicious meal prep!  Chicken, broccoli, carrots, and rice.  Perfect for a quick and nutritious lunch or dinner.\n",
            "\n",
            "**Option 2 (Slightly More Engaging):**\n",
            "\n",
            "> Lunch goals! ✨  These easy-to-make meal prep containers are packed with protein and veggies.  Who's ready to eat healthy?\n",
            "\n",
            "**Option 3 (Focus on Convenience):**\n",
            "\n",
            "> Meal prepping made easy.  These tasty containers are perfect for busy weeknights.  Just grab and go!\n",
            "\n",
            "**Option 4 (More Detailed):**\n",
            "\n",
            "> Homemade teriyaki chicken and veggie bowls!  Rice, broccoli, carrots, and a savory teriyaki sauce.  A balanced and satisfying meal.\n",
            "\n",
            "\n",
            "Choose the caption that best suits your intended audience and purpose.\n",
            "\n"
          ]
        }
      ]
    },
    {
      "cell_type": "code",
      "source": [
        "from PIL import Image\n",
        "image_path = \"girl.jpg\"\n",
        "image = Image.open(image_path)\n",
        "response = model.generate_content([\"Generate an accurate caption for the image.\",image])\n",
        "print(response.text)"
      ],
      "metadata": {
        "colab": {
          "base_uri": "https://localhost:8080/",
          "height": 491
        },
        "id": "_4ovqY-1DDy6",
        "outputId": "f760d79a-66ab-4c8a-811a-366c7a9aa7ed"
      },
      "execution_count": 12,
      "outputs": [
        {
          "output_type": "stream",
          "name": "stdout",
          "text": [
            "Here are a few caption options for the image:\n",
            "\n",
            "**Option 1 (Simple & Direct):**\n",
            "\n",
            "> \"Check out this amazing teal kurta!\"\n",
            "\n",
            "**Option 2 (More Engaging):**\n",
            "\n",
            "> \"This teal kurta is perfect for any occasion.  What do you think?\"\n",
            "\n",
            "**Option 3 (Focus on the Style):**\n",
            "\n",
            "> \"Loving the details on this beautiful printed kurta.  Stylish and comfortable!\"\n",
            "\n",
            "**Option 4 (If selling the item):**\n",
            "\n",
            "> \"Shop this stunning teal kurta now!  Link in bio.\"\n",
            "\n",
            "**Option 5 (Playful):**\n",
            "\n",
            "> \"This kurta?  It's got my vote!  ✨\"\n",
            "\n",
            "\n",
            "The best option will depend on the context where the image is being used (e.g., social media post, product listing, blog).\n",
            "\n"
          ]
        }
      ]
    },
    {
      "cell_type": "code",
      "source": [
        "response = model.generate_content([\"What emotions can you detect in this picture?\",img])\n",
        "print(response.text)"
      ],
      "metadata": {
        "colab": {
          "base_uri": "https://localhost:8080/",
          "height": 200
        },
        "id": "5ubecCMSFCXt",
        "outputId": "bd40a480-2677-49b6-885b-5f3b6c9253c9"
      },
      "execution_count": 13,
      "outputs": [
        {
          "output_type": "stream",
          "name": "stdout",
          "text": [
            "The image evokes feelings of:\n",
            "\n",
            "* **Hunger/Appetite:** The food looks delicious and appetizing.  The vibrant colors and presentation stimulate the desire to eat.\n",
            "* **Healthiness/Well-being:** The meal appears to be healthy and nutritious, which could evoke feelings of well-being and positive self-care.\n",
            "* **Preparation/Planning:** The containers suggest meal prepping, hinting at organization and forward-thinking, which some might find satisfying.\n",
            "* **Contentment/Satisfaction:** The overall aesthetic is pleasing and calming; the simple composition and neat presentation might create a feeling of quiet satisfaction.\n",
            "\n",
            "It's important to note that these are inferred emotions based on the visual cues.  The actual emotional response to the image would vary from person to person.\n",
            "\n"
          ]
        }
      ]
    }
  ]
}