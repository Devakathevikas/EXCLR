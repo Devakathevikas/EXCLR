{
  "nbformat": 4,
  "nbformat_minor": 0,
  "metadata": {
    "colab": {
      "provenance": [],
      "authorship_tag": "ABX9TyOXvKbV2xltI4b8m4JGpo2y",
      "include_colab_link": true
    },
    "kernelspec": {
      "name": "python3",
      "display_name": "Python 3"
    },
    "language_info": {
      "name": "python"
    }
  },
  "cells": [
    {
      "cell_type": "markdown",
      "metadata": {
        "id": "view-in-github",
        "colab_type": "text"
      },
      "source": [
        "<a href=\"https://colab.research.google.com/github/Devakathevikas/EXCLR/blob/main/AD_13.ipynb\" target=\"_parent\"><img src=\"https://colab.research.google.com/assets/colab-badge.svg\" alt=\"Open In Colab\"/></a>"
      ]
    },
    {
      "cell_type": "code",
      "execution_count": 1,
      "metadata": {
        "colab": {
          "base_uri": "https://localhost:8080/"
        },
        "id": "RGU64dz3wyti",
        "outputId": "42ea48d8-aaf9-4273-ee7a-f4f73510301e"
      },
      "outputs": [
        {
          "output_type": "stream",
          "name": "stdout",
          "text": [
            "Requirement already satisfied: BeautifulSoup4 in /usr/local/lib/python3.11/dist-packages (4.13.3)\n",
            "Requirement already satisfied: soupsieve>1.2 in /usr/local/lib/python3.11/dist-packages (from BeautifulSoup4) (2.6)\n",
            "Requirement already satisfied: typing-extensions>=4.0.0 in /usr/local/lib/python3.11/dist-packages (from BeautifulSoup4) (4.12.2)\n"
          ]
        }
      ],
      "source": [
        "!pip install BeautifulSoup4"
      ]
    },
    {
      "cell_type": "code",
      "source": [
        "import requests\n",
        "from bs4 import BeautifulSoup\n",
        "\n",
        "url = \"http://quotes.toscrape.com\"\n",
        "\n",
        "response = requests.get(url)\n"
      ],
      "metadata": {
        "id": "25ATFFcdxwvU"
      },
      "execution_count": 2,
      "outputs": []
    },
    {
      "cell_type": "code",
      "source": [
        "import requests\n",
        "from bs4 import BeautifulSoup\n",
        "\n",
        "# Send a request to the website\n",
        "url = \"http://quotes.toscrape.com/\"\n",
        "response = requests.get(url)\n",
        "\n",
        "# Check if the request was successful\n",
        "if response.status_code == 200:\n",
        "    # Parse the HTML\n",
        "    soup = BeautifulSoup(response.text, 'html.parser')\n",
        "\n",
        "    # Find all quote containers\n",
        "    quotes = soup.find_all(\"div\", class_=\"quote\")\n",
        "\n",
        "    # Loop through each quote and extract data\n",
        "    for i, quote in enumerate(quotes[:5]):  # Get first 5 quotes\n",
        "        text = quote.find(\"span\", class_=\"text\").text  # Quote text\n",
        "        author = quote.find(\"small\", class_=\"author\").text  # Author name\n",
        "        tags = [tag.text for tag in quote.find_all(\"a\", class_=\"tag\")]  # List of tags\n",
        "\n",
        "        # Print the extracted information\n",
        "        print(f\"{i+1}. \\\"{text}\\\" - {author}\")\n",
        "        print(f\"   Tags: {', '.join(tags)}\\n\")\n",
        "\n",
        "else:\n",
        "    print(f\"Failed to retrieve the webpage. Status Code: {response.status_code}\")\n"
      ],
      "metadata": {
        "colab": {
          "base_uri": "https://localhost:8080/"
        },
        "id": "uQ8Pc79WyFaj",
        "outputId": "69c2edfe-ebe4-42a1-db5b-96fced428d92"
      },
      "execution_count": 8,
      "outputs": [
        {
          "output_type": "stream",
          "name": "stdout",
          "text": [
            "1. \"“The world as we have created it is a process of our thinking. It cannot be changed without changing our thinking.”\" - Albert Einstein\n",
            "   Tags: change, deep-thoughts, thinking, world\n",
            "\n",
            "2. \"“It is our choices, Harry, that show what we truly are, far more than our abilities.”\" - J.K. Rowling\n",
            "   Tags: abilities, choices\n",
            "\n",
            "3. \"“There are only two ways to live your life. One is as though nothing is a miracle. The other is as though everything is a miracle.”\" - Albert Einstein\n",
            "   Tags: inspirational, life, live, miracle, miracles\n",
            "\n",
            "4. \"“The person, be it gentleman or lady, who has not pleasure in a good novel, must be intolerably stupid.”\" - Jane Austen\n",
            "   Tags: aliteracy, books, classic, humor\n",
            "\n",
            "5. \"“Imperfection is beauty, madness is genius and it's better to be absolutely ridiculous than absolutely boring.”\" - Marilyn Monroe\n",
            "   Tags: be-yourself, inspirational\n",
            "\n"
          ]
        }
      ]
    },
    {
      "source": [
        "import requests\n",
        "from bs4 import BeautifulSoup\n",
        "\n",
        "city=\"india/hyderabad\"\n",
        "\n",
        "url = f\"https://www.timeanddate.com/weather/{city}\"\n",
        "\n",
        "response = requests.get(url)\n",
        "soup = BeautifulSoup(response.content, 'html.parser')\n",
        "temp = soup.find('div', class_='h2').text.strip() if soup.find('div', class_='h2') else None\n",
        "\n",
        "# Extract the weather description\n",
        "desc_element = soup.find('div', class_='mtt')  # This might need adjustment depending on the website's structure\n",
        "desc = desc_element.text.strip() if desc_element else \"N/A\"\n",
        "\n",
        "print(f\"Current Weather in {city}: {temp} | {desc}\")"
      ],
      "cell_type": "code",
      "metadata": {
        "colab": {
          "base_uri": "https://localhost:8080/"
        },
        "id": "6RDBH4Tq2Lcr",
        "outputId": "336d0a9e-1388-4637-ff1a-89b9b191c525"
      },
      "execution_count": 11,
      "outputs": [
        {
          "output_type": "stream",
          "name": "stdout",
          "text": [
            "Current Weather in india/hyderabad: 90 °F | N/A\n"
          ]
        }
      ]
    },
    {
      "cell_type": "code",
      "source": [
        "import requests\n",
        "from bs4 import BeautifulSoup\n",
        "\n",
        "search_url = \"https://www.amazon.in/iPhone-16-Pro-256-GB/dp/B0DGJC8DG8/ref=sr_1_3?crid=2CZKAT4AMHGHQ&dib=eyJ2IjoiMSJ9.LAi5z5vs1wlGTD04ksrOBOGbnK6N1imlM5NKwmQKZnNPmYf69gVxdEIll5h4THJAlFbMqy3HahiM1GXtTCub0Pfu561M18LajYuPP0CPB10yizgd33zOIfyF8rYEP2XyqBICLlgR74NNBtwg0KJ1nqG_IHA9KIVBm6FoC3lLIVGpyMf0Fzji-ggfN28WWJ663FOTFj3n9d-X13wcUvLyN1nveI_lQHkeWC6EuobvifM.uc3Y-XDm2amUhKX_FiLwaW06er9U3NXlRnFp9UF4kao&dib_tag=se&keywords=iphone&qid=1739862090&sprefix=iphone%2Caps%2C322&sr=8-3&th=1\"\n",
        "headers = {\n",
        "    \"User-Agent\": \"Mozilla/5.0 (Windows NT 10.0; Win64; x64) AppleWebKit/537.36 (KHTML, like Gecko) Chrome/58.0.3029.110 Safari/537.35\"\n",
        "}\n",
        "\n",
        "response = requests.get(search_url, headers=headers)\n",
        "soup = BeautifulSoup(response.content, \"html.parser\")\n",
        "\n",
        "product = soup.select_one(\"span.a-size-medium\")\n",
        "price = soup.select_one(\"span.a-offscreen\")\n",
        "\n",
        "if product and price:\n",
        "    print(f\"Product: {product.text.strip()}\")\n",
        "    print(f\"Price: {price.text.strip()}\")\n",
        "else:\n",
        "  print(\"Could not find product details.\")"
      ],
      "metadata": {
        "colab": {
          "base_uri": "https://localhost:8080/"
        },
        "id": "-LnrCTWV2GP4",
        "outputId": "1c98cbe8-b368-4e65-86c8-d130546644d4"
      },
      "execution_count": 14,
      "outputs": [
        {
          "output_type": "stream",
          "name": "stdout",
          "text": [
            "Product: Which phone would you like to exchange?\n",
            "Price: ₹1,22,900.00\n"
          ]
        }
      ]
    },
    {
      "cell_type": "code",
      "source": [
        "import requests\n",
        "from bs4 import BeautifulSoup\n",
        "\n",
        "# Wikipedia page URL\n",
        "url = \"https://en.wikipedia.org/wiki/List_of_countries_and_dependencies_by_population\"\n",
        "\n",
        "# Headers to avoid getting blocked\n",
        "headers = {\n",
        "    \"User-Agent\": \"Mozilla/5.0 (Windows NT 10.0; Win64; x64) AppleWebKit/537.36 (KHTML, like Gecko) Chrome/119.0.0.0 Safari/537.36\"\n",
        "}\n",
        "\n",
        "# Send GET request\n",
        "response = requests.get(url, headers=headers)\n",
        "\n",
        "# Check if request was successful\n",
        "if response.status_code == 200:\n",
        "    soup = BeautifulSoup(response.text, \"html.parser\")\n",
        "\n",
        "    # Find the table\n",
        "    table = soup.find(\"table\", class_=\"wikitable\")\n",
        "\n",
        "    # Extract the first 5 countries and their population\n",
        "    for row in table.find_all(\"tr\")[1:6]:  # Skip the header row\n",
        "        columns = row.find_all(\"td\")\n",
        "\n",
        "        if len(columns) >= 3:  # Ensure columns exist\n",
        "            country = columns[1].text.strip()\n",
        "            population = columns[2].text.strip()\n",
        "            print(f\"{country}: {population}\")\n",
        "else:\n",
        "    print(f\"Failed to retrieve page. Status code: {response.status_code}\")\n"
      ],
      "metadata": {
        "colab": {
          "base_uri": "https://localhost:8080/"
        },
        "id": "S-1tM0rk5W-S",
        "outputId": "16676796-6cb0-4bc0-ba61-93331e04bc5a"
      },
      "execution_count": 15,
      "outputs": [
        {
          "output_type": "stream",
          "name": "stdout",
          "text": [
            "World: 8,119,000,000\n",
            "China: 1,408,280,000\n",
            "1,402,737,000: 17.2%\n",
            "United States: 340,110,988\n",
            "Indonesia: 282,477,584\n"
          ]
        }
      ]
    },
    {
      "source": [
        "from IPython.display import display, HTML # Changed 'Ipython' to 'IPython'"
      ],
      "cell_type": "code",
      "metadata": {
        "id": "seVifgqx6-Ce"
      },
      "execution_count": 17,
      "outputs": []
    },
    {
      "cell_type": "code",
      "source": [
        "<!DOCTYPE html>\n",
        "<html>\n",
        "<head>\n",
        "    <style>\n",
        "        table {\n",
        "            font-family: Verdana, sans-serif;\n",
        "            border-collapse: collapse;\n",
        "            width: 100%;\n",
        "        }\n",
        "        th, td {\n",
        "            border: 1px solid black;\n",
        "            padding: 8px;\n",
        "            text-align: left;\n",
        "        }\n",
        "        th {\n",
        "            background-color: #f2f2f2;\n",
        "        }\n",
        "    </style>\n",
        "</head>\n",
        "<body>\n",
        "\n",
        "<p style=\"font-family: Verdana;\">This is a sample table</p>\n",
        "\n",
        "<table>\n",
        "    <tr>\n",
        "        <th>Company</th>\n",
        "        <th>Contact</th>\n",
        "        <th>Country</th>\n",
        "    </tr>\n",
        "    <tr>\n",
        "        <td>Alfreds Futterkiste</td>\n",
        "        <td>Maria Anders</td>\n",
        "        <td>Germany</td>\n",
        "    </tr>\n",
        "    <tr>\n",
        "        <td>Centro comercial Moctezuma</td>\n",
        "        <td>Francisco Chang</td>\n",
        "        <td>Mexico</td>\n",
        "    </tr>\n",
        "</table>\n",
        "\n",
        "</body>\n",
        "</html>\n"
      ],
      "metadata": {
        "id": "iO_FsMkA8HQP"
      },
      "execution_count": null,
      "outputs": []
    }
  ]
}