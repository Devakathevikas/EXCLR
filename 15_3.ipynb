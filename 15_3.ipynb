{
  "nbformat": 4,
  "nbformat_minor": 0,
  "metadata": {
    "colab": {
      "provenance": [],
      "authorship_tag": "ABX9TyMAx+AOFzWUbKa6c2SWdoJE",
      "include_colab_link": true
    },
    "kernelspec": {
      "name": "python3",
      "display_name": "Python 3"
    },
    "language_info": {
      "name": "python"
    }
  },
  "cells": [
    {
      "cell_type": "markdown",
      "metadata": {
        "id": "view-in-github",
        "colab_type": "text"
      },
      "source": [
        "<a href=\"https://colab.research.google.com/github/Devakathevikas/EXCLR/blob/main/15_3.ipynb\" target=\"_parent\"><img src=\"https://colab.research.google.com/assets/colab-badge.svg\" alt=\"Open In Colab\"/></a>"
      ]
    },
    {
      "cell_type": "code",
      "execution_count": null,
      "metadata": {
        "id": "PVvD_uZXgIJY"
      },
      "outputs": [],
      "source": [
        "import google.generativeai as genai\n",
        "from google.colab import userdata\n",
        "\n",
        "GOOGLE_API_KEY = userdata.get('GOOGLE_API_KEY')\n",
        "genai.configure(api_key=GOOGLE_API_KEY)"
      ]
    },
    {
      "cell_type": "code",
      "source": [
        "pip install PyPDF2"
      ],
      "metadata": {
        "colab": {
          "base_uri": "https://localhost:8080/"
        },
        "id": "6xZa-hNugcd-",
        "outputId": "29eabd69-34de-46dd-cdac-56c6147f876e"
      },
      "execution_count": null,
      "outputs": [
        {
          "output_type": "stream",
          "name": "stdout",
          "text": [
            "Collecting PyPDF2\n",
            "  Downloading pypdf2-3.0.1-py3-none-any.whl.metadata (6.8 kB)\n",
            "Downloading pypdf2-3.0.1-py3-none-any.whl (232 kB)\n",
            "\u001b[?25l   \u001b[90m━━━━━━━━━━━━━━━━━━━━━━━━━━━━━━━━━━━━━━━━\u001b[0m \u001b[32m0.0/232.6 kB\u001b[0m \u001b[31m?\u001b[0m eta \u001b[36m-:--:--\u001b[0m\r\u001b[2K   \u001b[90m━━━━━━━━━━━━━━━━━━━━━━━━━━━━━━━━━━━━━━━━\u001b[0m \u001b[32m232.6/232.6 kB\u001b[0m \u001b[31m10.7 MB/s\u001b[0m eta \u001b[36m0:00:00\u001b[0m\n",
            "\u001b[?25hInstalling collected packages: PyPDF2\n",
            "Successfully installed PyPDF2-3.0.1\n"
          ]
        }
      ]
    },
    {
      "cell_type": "code",
      "source": [
        "import PyPDF2\n",
        "\n",
        "def extract_text_from_pdf(pdf_path):\n",
        "    text = \"\"\n",
        "    with open(pdf_path, \"rb\") as file:\n",
        "      reader = PyPDF2.PdfReader(file)\n",
        "      for page in reader.pages:\n",
        "        text += page.extract_text()\n",
        "    return text"
      ],
      "metadata": {
        "id": "Q1pdCtUVgo97"
      },
      "execution_count": null,
      "outputs": []
    },
    {
      "source": [
        "def extract_health_insights(text):\n",
        "  \"\"\"Asks Gemini AI to extract key medical insights from the report.\"\"\"\n",
        "  model = genai.GenerativeModel(\"gemini-1.5-flash\")\n",
        "  prompt = f\"Extract key insights from the following health report:\\n\\n{text}\"\n",
        "  response = model.generate_content(prompt)\n",
        "  return response.text\n",
        "\n",
        "# The following lines were incorrectly indented\n",
        "pdf_file = \"health_report.pdf\"\n",
        "extracted_text = extract_text_from_pdf(pdf_file)\n",
        "health_insights = extract_health_insights(extracted_text)\n",
        "print(health_insights)"
      ],
      "cell_type": "code",
      "metadata": {
        "colab": {
          "base_uri": "https://localhost:8080/",
          "height": 509
        },
        "id": "UrerzkLtmgbm",
        "outputId": "efa65b99-8a23-44d1-98b8-c570d1f507a0"
      },
      "execution_count": null,
      "outputs": [
        {
          "output_type": "stream",
          "name": "stdout",
          "text": [
            "Mr. Kishan Goud's (MR2100003157) health report from February 1st, 2021, reveals the following key insights:\n",
            "\n",
            "**Infectious Diseases:**\n",
            "\n",
            "* **Widal Test:** Elevated titers for *Salmonella Typhi* \"O\" (1:160) and \"H\" (1:80) suggest a possible past or recent infection with typhoid fever.  The reference range is 1:20, so these values are significantly above the normal range.  However, the absence of elevated titers for *Salmonella Paratyphi* \"A\" and \"B\" weakens this diagnosis.  Further investigation may be needed.\n",
            "* **Dengue Serology:** Negative results for Dengue NS1 antigen, IgG, and IgM antibodies rule out a recent or current dengue infection.\n",
            "* **Malaria:** Negative rapid malaria tests for *Plasmodium falciparum* and *Plasmodium vivax* exclude malaria.\n",
            "\n",
            "**Hematology:**\n",
            "\n",
            "* **Complete Blood Picture (CBC):**  Hemoglobin, RBC, WBC, and platelet counts are within the normal ranges. The differential count shows normal ranges for neutrophils, lymphocytes, eosinophils, monocytes, and basophils.  Peripheral blood smear shows normal morphology.\n",
            "* **Erythrocyte Sedimentation Rate (ESR):** Elevated ESR (26 mm/hr in the first hour, 52 mm/hr in the second hour).  This indicates inflammation in the body, but the cause requires further investigation.\n",
            "\n",
            "**Biochemistry:**\n",
            "\n",
            "* **Liver Function Tests (LFTs):** All liver function tests (bilirubin, alkaline phosphatase, SGOT, SGPT, total protein, albumin, globulin, A/G ratio) are within normal limits.\n",
            "* **Renal Function Test:** Serum creatinine is within the normal range (0.8 mg/dl), indicating normal kidney function.\n",
            "* **Blood Glucose:**  Random blood glucose is not provided (data missing in text).\n",
            "* **HbA1c:** HbA1c level is 5.4%, which falls within the normal range for non-diabetic individuals (4-6%), indicating good blood sugar control.\n",
            "* **Electrolytes:** Serum sodium (122 mmol/l) is slightly low (reference range 135-146 mmol/l), while potassium and chloride levels are within normal range.  The low sodium warrants further investigation.\n",
            "\n",
            "\n",
            "**Overall:**\n",
            "\n",
            "The most significant finding is the elevated Widal test titers suggesting possible past or present typhoid infection. The elevated ESR suggests inflammation, which needs further investigation to determine the cause. The slightly low sodium level also requires attention.  The other tests largely show normal results.  A physician's interpretation and further investigation are necessary to establish a definitive diagnosis and appropriate treatment plan.\n",
            "\n"
          ]
        }
      ]
    },
    {
      "cell_type": "code",
      "source": [
        "def extract_health_insights(text):\n",
        "  \"\"\"Asks Gemini AI to extract key medical insights from the report.\"\"\"\n",
        "  model = genai.GenerativeModel(\"gemini-1.5-flash\")\n",
        "  prompt = f\"Analyze the lab test results in the following report and highlight any abnormal values:\\n\\n{text}\"\n",
        "  response = model.generate_content(prompt)\n",
        "  return response.text\n",
        "\n",
        "# The following lines were incorrectly indented\n",
        "pdf_file = \"health_report.pdf\"\n",
        "extracted_text = extract_text_from_pdf(pdf_file)\n",
        "health_insights = extract_health_insights(extracted_text)\n",
        "print(health_insights)"
      ],
      "metadata": {
        "colab": {
          "base_uri": "https://localhost:8080/",
          "height": 327
        },
        "id": "PLB5lsP8mD1R",
        "outputId": "9ccb1bf5-d58d-4418-9078-e82c91c836cd"
      },
      "execution_count": null,
      "outputs": [
        {
          "output_type": "stream",
          "name": "stdout",
          "text": [
            "Based on the provided lab results, the following values are outside the reference ranges, indicating potential abnormalities:\n",
            "\n",
            "\n",
            "* **Widal Test:**  S. Typhi \"O\" (1:160) and S. Typhi \"H\" (1:80) are significantly higher than the reference range (1:20). This suggests a possible past or present *Salmonella Typhi* infection.  The titre needs to be interpreted in the context of the patient's clinical picture and other tests. A single high titre isn't always diagnostic.\n",
            "\n",
            "* **ESR (Erythrocyte Sedimentation Rate):** Both the 1st hour (26 mm/hr) and 2nd hour (52 mm/hr) values are significantly elevated above the reference range (0-8 mm/hr for the first hour).  This indicates inflammation somewhere in the body.  Further investigation is needed to pinpoint the source.\n",
            "\n",
            "* **RBC (Red Blood Cell Count):** 4.3 mill/cumm is slightly below the lower limit of the reference range (4.5 - 5.5 mill/cumm). While only slightly low, this warrants attention, particularly in conjunction with the elevated ESR.\n",
            "\n",
            "* **Serum Sodium:** 122 mmol/l is below the reference range of 135-146 mmol/l. This indicates hyponatremia (low sodium levels), which can have various causes.\n",
            "\n",
            "* **Serum Chloride:** 97 mmol/l is below the reference range of 98-107 mmol/l. This is mild hypochloremia (low chloride levels) and may be related to the hyponatremia.\n",
            "\n",
            "\n",
            "**Important Note:**  I am an AI and cannot give medical advice.  These highlighted abnormalities require further investigation and interpretation by a qualified medical professional. The doctor should consider the patient's symptoms, medical history, and other test results to determine the significance of these findings and formulate an appropriate diagnosis and treatment plan.  The slightly low RBC count and the other electrolyte abnormalities might be secondary to the underlying inflammatory process suggested by the elevated ESR.\n",
            "\n"
          ]
        }
      ]
    },
    {
      "cell_type": "code",
      "source": [
        "def extract_health_insights(text):\n",
        "  \"\"\"Asks Gemini AI to extract key medical insights from the report.\"\"\"\n",
        "  model = genai.GenerativeModel(\"gemini-1.5-flash\")\n",
        "  prompt = f\"Explain the medical terms in the following health report in simple language:\\n\\n{text}\"\n",
        "  response = model.generate_content(prompt)\n",
        "  return response.text\n",
        "\n",
        "# The following lines were incorrectly indented\n",
        "pdf_file = \"health_report.pdf\"\n",
        "extracted_text = extract_text_from_pdf(pdf_file)\n",
        "health_insights = extract_health_insights(extracted_text)\n",
        "print(health_insights)"
      ],
      "metadata": {
        "colab": {
          "base_uri": "https://localhost:8080/",
          "height": 890
        },
        "id": "vHQ_mzVgoKen",
        "outputId": "cb5b084b-6db6-4143-db98-95fd4609335a"
      },
      "execution_count": null,
      "outputs": [
        {
          "output_type": "stream",
          "name": "stdout",
          "text": [
            "This report shows the results of various blood tests performed on Mr. Kishan Goud on February 1st, 2021. Let's break down the tests and results:\n",
            "\n",
            "**1. Widal Test:** This test checks for antibodies against *Salmonella Typhi* and *Salmonella Paratyphi*, bacteria that cause typhoid fever.  The numbers (e.g., 1:160) represent the dilution of the sample – higher numbers suggest a higher antibody level, indicating a possible past or present infection.\n",
            "\n",
            "* **S. Typhi \"O\" 1:160:**  A moderately high antibody level against the *O* antigen of *Salmonella Typhi*.  This suggests possible exposure to typhoid fever, but further investigation would be needed for confirmation.\n",
            "* **S. Typhi \"H\" 1:80:** A moderate antibody level against the *H* antigen of *Salmonella Typhi*.\n",
            "* **S. Paratyphi \"AH\" 1:20:** Antibody level within the normal range for *Salmonella Paratyphi* AH.\n",
            "* **S. Paratyphi \"BH\" 1:20:** Antibody level within the normal range for *Salmonella Paratyphi* BH.\n",
            "\n",
            "**2. Dengue Serology:** This tests for dengue fever.  All results (NS1 antigen, IgG, and IgM) are negative, meaning no evidence of current or past dengue infection was found.\n",
            "\n",
            "**3. Erythrocyte Sedimentation Rate (ESR):** This measures how quickly red blood cells settle in a test tube.  A higher ESR can indicate inflammation in the body.  Mr. Goud's ESR is elevated (26 mm/hr in the first hour, 52 mm/hr in the second), suggesting the presence of inflammation.\n",
            "\n",
            "**4. Rapid Malaria Test:** This tests for malaria parasites. Both *Plasmodium vivax* (P.V.) and *Plasmodium falciparum* (P.F.) tests are negative, ruling out malaria.\n",
            "\n",
            "**5. Complete Blood Picture (CBC):** This is a comprehensive blood test that includes:\n",
            "\n",
            "* **Hemoglobin (Hb):**  Measures the amount of oxygen-carrying protein in the blood.  Mr. Goud's level (13.6 gm%) is within the normal range.\n",
            "* **Red Blood Cells (RBC):**  The number of red blood cells. His count is slightly below the lower limit of normal.\n",
            "* **White Blood Cells (WBC):**  The number of white blood cells (immune cells). His count is within the normal range.\n",
            "* **Platelets:**  Cells involved in blood clotting. His count (2.0 lakhs/cumm) is within the normal range.\n",
            "* **Packed Cell Volume (PCV):** The percentage of red blood cells in the blood.  His level (40.5%) is within the normal range.\n",
            "* **Differential Count:** This breaks down the types of white blood cells.  All types are within the normal ranges.\n",
            "* **Peripheral Blood Smear:** A microscopic examination of the blood sample; the report indicates normal findings for RBCs, WBCs, and platelets.\n",
            "\n",
            "**6. HbA1c:** This measures average blood sugar levels over the past 2-3 months. Mr. Goud's result (5.4%) is in the normal range for someone who doesn't have diabetes.\n",
            "\n",
            "**7. Serum Creatinine:** This measures kidney function.  Mr. Goud's level (0.8 mg/dl) is within the normal range.\n",
            "\n",
            "**8. Random Blood Glucose:** This measures blood sugar at a single point in time.  His level is within the normal range.\n",
            "\n",
            "**9. Liver Function Test (LFT):** These tests assess liver health:\n",
            "\n",
            "* **Total Bilirubin, Direct Bilirubin, Indirect Bilirubin:** These measure bilirubin, a byproduct of red blood cell breakdown.  All levels are within the normal range.\n",
            "* **Alkaline Phosphatase:** An enzyme found in the liver and bones; his level is within the normal range.\n",
            "* **SGOT (AST) and SGPT (ALT):** Liver enzymes; both are slightly elevated but still within the normal ranges, although they are on the higher end.\n",
            "* **Total Protein, Albumin, Globulin, A/G Ratio:**  These measure proteins in the blood; all are within normal ranges.\n",
            "\n",
            "**10. Serum Electrolytes:** These measure the levels of important minerals in the blood:\n",
            "\n",
            "* **Sodium:** Slightly below the lower limit of normal.\n",
            "* **Potassium:** Within the normal range.\n",
            "* **Chloride:** Slightly below the lower limit of normal.\n",
            "\n",
            "\n",
            "**In Summary:**  The most notable findings are the elevated ESR, suggesting inflammation, and slightly elevated liver enzymes (SGOT and SGPT) and low serum sodium and chloride. The Widal test shows moderate levels of antibodies to *Salmonella Typhi*, suggesting possible past or present typhoid fever.  The doctor should interpret these results in the context of Mr. Goud's symptoms and medical history to determine the appropriate diagnosis and treatment plan.  This explanation is for informational purposes only and does not constitute medical advice.  Mr. Goud should consult his physician for interpretation and further action.\n",
            "\n"
          ]
        }
      ]
    },
    {
      "cell_type": "code",
      "source": [
        "def extract_health_insights(text):\n",
        "  \"\"\"Asks Gemini AI to extract key medical insights from the report.\"\"\"\n",
        "  model = genai.GenerativeModel(\"gemini-1.5-flash\")\n",
        "  prompt = f\"Extract key insights from the following health report in a single line:\\n\\n{text}\"\n",
        "  response = model.generate_content(prompt)\n",
        "  return response.text\n",
        "\n",
        "# The following lines were incorrectly indented\n",
        "pdf_file = \"health_report.pdf\"\n",
        "extracted_text = extract_text_from_pdf(pdf_file)\n",
        "health_insights = extract_health_insights(extracted_text)\n",
        "print(health_insights)"
      ],
      "metadata": {
        "colab": {
          "base_uri": "https://localhost:8080/",
          "height": 73
        },
        "id": "8_Yrzdk8pyg5",
        "outputId": "804be80b-2de9-45fa-d953-6f6443b21963"
      },
      "execution_count": null,
      "outputs": [
        {
          "output_type": "stream",
          "name": "stdout",
          "text": [
            "Mr. Kishan Goud's blood tests showed elevated ESR, but negative results for typhoid, dengue, and malaria; his other blood parameters were mostly within normal ranges, except for slightly low serum sodium.\n",
            "\n"
          ]
        }
      ]
    },
    {
      "cell_type": "code",
      "source": [
        "def extract_health_insights(text):\n",
        "  \"\"\"Asks Gemini AI to extract key medical insights from the report.\"\"\"\n",
        "  model = genai.GenerativeModel(\"gemini-1.5-flash\")\n",
        "  prompt = f\"conclusion on the report:\\n\\n{text}\"\n",
        "  response = model.generate_content(prompt)\n",
        "  return response.text\n",
        "\n",
        "# The following lines were incorrectly indented\n",
        "pdf_file = \"health_report.pdf\"\n",
        "extracted_text = extract_text_from_pdf(pdf_file)\n",
        "health_insights = extract_health_insights(extracted_text)\n",
        "print(health_insights)"
      ],
      "metadata": {
        "colab": {
          "base_uri": "https://localhost:8080/",
          "height": 110
        },
        "id": "J6gJd7Tqqa65",
        "outputId": "15ad7c70-d745-4531-8532-cf70c127c330"
      },
      "execution_count": null,
      "outputs": [
        {
          "output_type": "stream",
          "name": "stdout",
          "text": [
            "**Conclusion:**\n",
            "\n",
            "Mr. Kishan Goud's laboratory results reveal several findings requiring clinical correlation.  While the dengue serology tests (NS1, IgG, IgM) and rapid malaria tests were negative, his elevated ESR (26 mm/hr in the first hour, 52 mm/hr in the second hour) suggests possible inflammation.  His Widal test shows a positive reaction for *Salmonella Typhi* \"O\" (1:160) and \"H\" (1:80) antigens,  *Salmonella Paratyphi* \"A\" (1:20) and \"B\" (1:20) antigens, warranting further evaluation for possible typhoid fever.  Other blood parameters are largely within the normal range, including complete blood picture (CBC), HbA1c (indicating controlled blood sugar), and serum creatinine, although serum sodium is slightly low (122 mmol/l).  Liver function tests are within normal limits, excluding slight variations in Albumin (4.0 gms/dl).  Overall, the results suggest a potential typhoid infection needing clinical assessment and management by Dr. Krishna Prasad.  Further investigations may be necessary based on the clinical presentation and physician's judgment.\n",
            "\n"
          ]
        }
      ]
    },
    {
      "cell_type": "code",
      "source": [],
      "metadata": {
        "id": "YsIbepRQrSAI"
      },
      "execution_count": null,
      "outputs": []
    }
  ]
}