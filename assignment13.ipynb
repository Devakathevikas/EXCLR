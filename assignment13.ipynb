{
  "nbformat": 4,
  "nbformat_minor": 0,
  "metadata": {
    "colab": {
      "provenance": [],
      "authorship_tag": "ABX9TyO1j50RUUwGuUkL3OMeQpwb",
      "include_colab_link": true
    },
    "kernelspec": {
      "name": "python3",
      "display_name": "Python 3"
    },
    "language_info": {
      "name": "python"
    }
  },
  "cells": [
    {
      "cell_type": "markdown",
      "metadata": {
        "id": "view-in-github",
        "colab_type": "text"
      },
      "source": [
        "<a href=\"https://colab.research.google.com/github/Devakathevikas/EXCLR/blob/main/assignment13.ipynb\" target=\"_parent\"><img src=\"https://colab.research.google.com/assets/colab-badge.svg\" alt=\"Open In Colab\"/></a>"
      ]
    },
    {
      "cell_type": "markdown",
      "source": [
        "ASSIGNMENT -13"
      ],
      "metadata": {
        "id": "Xq2AGtcLEaC_"
      }
    },
    {
      "cell_type": "code",
      "source": [
        "## Write a Python script to perform part-of-speech tagging on the sentence:\n",
        "## 'NLP is amazing and fun to learn.' using SpaCy."
      ],
      "metadata": {
        "id": "rOGTk64YEciD"
      },
      "execution_count": 1,
      "outputs": []
    },
    {
      "cell_type": "code",
      "source": [
        "import spacy\n",
        "\n",
        "# Load the SpaCy English language model\n",
        "nlp = spacy.load(\"en_core_web_sm\")\n",
        "\n",
        "# Sentence for part-of-speech tagging\n",
        "sentence = \"NLP is amazing and fun to learn.\"\n",
        "\n",
        "# Process the sentence using SpaCy\n",
        "doc = nlp(sentence)\n",
        "\n",
        "# Perform POS tagging and display the results\n",
        "print(\"Token\\tPOS Tag\\tExplanation\")\n",
        "print(\"-\" * 30)\n",
        "for token in doc:\n",
        "    print(f\"{token.text}\\t{token.pos_}\\t{spacy.explain(token.pos_)}\")"
      ],
      "metadata": {
        "colab": {
          "base_uri": "https://localhost:8080/"
        },
        "id": "Kezk_VndEgKD",
        "outputId": "47b5a6e3-416e-4d19-f5dd-73570bbae56d"
      },
      "execution_count": 2,
      "outputs": [
        {
          "output_type": "stream",
          "name": "stdout",
          "text": [
            "Token\tPOS Tag\tExplanation\n",
            "------------------------------\n",
            "NLP\tPROPN\tproper noun\n",
            "is\tAUX\tauxiliary\n",
            "amazing\tADJ\tadjective\n",
            "and\tCCONJ\tcoordinating conjunction\n",
            "fun\tADJ\tadjective\n",
            "to\tPART\tparticle\n",
            "learn\tVERB\tverb\n",
            ".\tPUNCT\tpunctuation\n"
          ]
        }
      ]
    }
  ]
}