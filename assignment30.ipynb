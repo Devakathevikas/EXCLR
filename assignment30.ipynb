{
  "nbformat": 4,
  "nbformat_minor": 0,
  "metadata": {
    "colab": {
      "provenance": [],
      "authorship_tag": "ABX9TyMQQ+0xBH5+FzG1sd8ZlOWl",
      "include_colab_link": true
    },
    "kernelspec": {
      "name": "python3",
      "display_name": "Python 3"
    },
    "language_info": {
      "name": "python"
    }
  },
  "cells": [
    {
      "cell_type": "markdown",
      "metadata": {
        "id": "view-in-github",
        "colab_type": "text"
      },
      "source": [
        "<a href=\"https://colab.research.google.com/github/Devakathevikas/EXCLR/blob/main/assignment30.ipynb\" target=\"_parent\"><img src=\"https://colab.research.google.com/assets/colab-badge.svg\" alt=\"Open In Colab\"/></a>"
      ]
    },
    {
      "cell_type": "markdown",
      "source": [
        "ASSIGNMENT -30"
      ],
      "metadata": {
        "id": "Txep8BC-o0yd"
      }
    },
    {
      "cell_type": "code",
      "source": [
        "## Write a Python program to perform sentiment analysis on a given text using the TextBlob library.\n",
        "## Display whether the sentiment is positive, negative, or neutral"
      ],
      "metadata": {
        "id": "N1oTnrsmo3jl"
      },
      "execution_count": 1,
      "outputs": []
    },
    {
      "cell_type": "code",
      "source": [
        "!pip install textblob"
      ],
      "metadata": {
        "colab": {
          "base_uri": "https://localhost:8080/"
        },
        "id": "tnFlv3Xto6SQ",
        "outputId": "2d08dba5-ff11-44d6-c796-5e3792824c3b"
      },
      "execution_count": 2,
      "outputs": [
        {
          "output_type": "stream",
          "name": "stdout",
          "text": [
            "Requirement already satisfied: textblob in /usr/local/lib/python3.11/dist-packages (0.17.1)\n",
            "Requirement already satisfied: nltk>=3.1 in /usr/local/lib/python3.11/dist-packages (from textblob) (3.9.1)\n",
            "Requirement already satisfied: click in /usr/local/lib/python3.11/dist-packages (from nltk>=3.1->textblob) (8.1.8)\n",
            "Requirement already satisfied: joblib in /usr/local/lib/python3.11/dist-packages (from nltk>=3.1->textblob) (1.4.2)\n",
            "Requirement already satisfied: regex>=2021.8.3 in /usr/local/lib/python3.11/dist-packages (from nltk>=3.1->textblob) (2024.11.6)\n",
            "Requirement already satisfied: tqdm in /usr/local/lib/python3.11/dist-packages (from nltk>=3.1->textblob) (4.67.1)\n"
          ]
        }
      ]
    },
    {
      "cell_type": "code",
      "source": [
        "from textblob import TextBlob\n",
        "\n",
        "def analyze_sentiment(text):\n",
        "    try:\n",
        "        # Create a TextBlob object\n",
        "        blob = TextBlob(text)\n",
        "\n",
        "        # Get the sentiment polarity\n",
        "        sentiment_polarity = blob.sentiment.polarity\n",
        "\n",
        "        # Determine the sentiment category\n",
        "        if sentiment_polarity > 0:\n",
        "            sentiment = \"Positive\"\n",
        "        elif sentiment_polarity < 0:\n",
        "            sentiment = \"Negative\"\n",
        "        else:\n",
        "            sentiment = \"Neutral\"\n",
        "\n",
        "        # Display the sentiment\n",
        "        print(f\"Text: {text}\")\n",
        "        print(f\"Sentiment Polarity: {sentiment_polarity:.2f}\")\n",
        "        print(f\"Overall Sentiment: {sentiment}\")\n",
        "\n",
        "    except Exception as e:\n",
        "        print(f\"An error occurred: {e}\")\n",
        "\n",
        "# Example text\n",
        "text = \"I love this product! It's absolutely fantastic.\"\n",
        "\n",
        "# Perform sentiment analysis\n",
        "analyze_sentiment(text)"
      ],
      "metadata": {
        "colab": {
          "base_uri": "https://localhost:8080/"
        },
        "id": "qhNPYoe3o83K",
        "outputId": "25503ead-368a-4500-a78a-1b5a376c01ca"
      },
      "execution_count": 3,
      "outputs": [
        {
          "output_type": "stream",
          "name": "stdout",
          "text": [
            "Text: I love this product! It's absolutely fantastic.\n",
            "Sentiment Polarity: 0.51\n",
            "Overall Sentiment: Positive\n"
          ]
        }
      ]
    }
  ]
}