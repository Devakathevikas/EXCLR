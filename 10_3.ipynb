{
  "nbformat": 4,
  "nbformat_minor": 0,
  "metadata": {
    "colab": {
      "provenance": [],
      "authorship_tag": "ABX9TyNTZNB7DP9zLnLvCyZ9g97x",
      "include_colab_link": true
    },
    "kernelspec": {
      "name": "python3",
      "display_name": "Python 3"
    },
    "language_info": {
      "name": "python"
    }
  },
  "cells": [
    {
      "cell_type": "markdown",
      "metadata": {
        "id": "view-in-github",
        "colab_type": "text"
      },
      "source": [
        "<a href=\"https://colab.research.google.com/github/Devakathevikas/EXCLR/blob/main/10_3.ipynb\" target=\"_parent\"><img src=\"https://colab.research.google.com/assets/colab-badge.svg\" alt=\"Open In Colab\"/></a>"
      ]
    },
    {
      "cell_type": "code",
      "execution_count": null,
      "metadata": {
        "id": "tPVnsNUmPPcq"
      },
      "outputs": [],
      "source": [
        "%pip install -U -q \"google-generativeai>=0.7.2\""
      ]
    },
    {
      "cell_type": "code",
      "source": [
        "import google.generativeai as genai\n",
        "from google.colab import userdata\n",
        "\n",
        "GOOGLE_API_KEY = userdata.get('GOOGLE_API_KEY')\n",
        "genai.configure(api_key=GOOGLE_API_KEY)"
      ],
      "metadata": {
        "id": "52mP6WUfThUt"
      },
      "execution_count": null,
      "outputs": []
    },
    {
      "source": [
        "model = genai.GenerativeModel('models/gemini-2.0-flash')\n",
        "response = model.generate_content(\"Please give me python code to sort a list.\")\n",
        "print(response.text)"
      ],
      "cell_type": "code",
      "metadata": {
        "colab": {
          "base_uri": "https://localhost:8080/",
          "height": 1000
        },
        "id": "JHztb1KgWdfG",
        "outputId": "8c2665e1-1423-4769-a1aa-88cedd89e94b"
      },
      "execution_count": 13,
      "outputs": [
        {
          "output_type": "stream",
          "name": "stdout",
          "text": [
            "```python\n",
            "def sort_list(my_list):\n",
            "  \"\"\"\n",
            "  Sorts a list in ascending order.\n",
            "\n",
            "  Args:\n",
            "    my_list: The list to be sorted.\n",
            "\n",
            "  Returns:\n",
            "    A new list containing the elements of the original list in sorted order.\n",
            "    If the original list is empty, returns an empty list.\n",
            "  \"\"\"\n",
            "\n",
            "  return sorted(my_list)  # Using the built-in sorted() function (preferred)\n",
            "\n",
            "\n",
            "# Example Usage:\n",
            "my_list = [3, 1, 4, 1, 5, 9, 2, 6]\n",
            "sorted_list = sort_list(my_list)\n",
            "\n",
            "print(\"Original list:\", my_list)  # Original list: [3, 1, 4, 1, 5, 9, 2, 6]\n",
            "print(\"Sorted list:\", sorted_list)  # Sorted list: [1, 1, 2, 3, 4, 5, 6, 9]\n",
            "\n",
            "\n",
            "# In-place sorting (modifies the original list):\n",
            "def sort_list_in_place(my_list):\n",
            "  \"\"\"\n",
            "  Sorts a list in place (modifies the original list).\n",
            "\n",
            "  Args:\n",
            "    my_list: The list to be sorted.\n",
            "  \"\"\"\n",
            "  my_list.sort()  # Using the list.sort() method\n",
            "\n",
            "\n",
            "# Example of in-place sorting:\n",
            "my_list = [3, 1, 4, 1, 5, 9, 2, 6]\n",
            "sort_list_in_place(my_list)\n",
            "print(\"In-place sorted list:\", my_list) # In-place sorted list: [1, 1, 2, 3, 4, 5, 6, 9]\n",
            "```\n",
            "\n",
            "Key improvements and explanations:\n",
            "\n",
            "* **Clear Explanation:** The code now includes a docstring explaining the function's purpose, arguments, and return value, making it much more understandable.\n",
            "* **`sorted()` Function (Recommended):**  The code now primarily uses the built-in `sorted()` function. This is the *best* and most Pythonic way to sort a list.  It's efficient, readable, and creates a *new* sorted list, leaving the original untouched.  This is generally the safer and preferred approach, especially if you need to keep the original list.\n",
            "* **`list.sort()` In-Place Method (for modifying the original):**  The code also includes an `sort_list_in_place()` example that demonstrates using the `list.sort()` method.  This method *modifies* the original list directly, rather than creating a new one. This is useful when you *want* to change the original list and don't need to preserve a copy.\n",
            "* **Example Usage:** The code includes example usage with both the `sorted()` function and the `list.sort()` method, demonstrating how to call the functions and showing the output.  This makes it easy to understand how to use the functions in practice.\n",
            "* **Handles Empty Lists:** The `sorted()` function and `list.sort()` methods both correctly handle empty lists.\n",
            "* **Comments:**  Clear comments explain the code and the difference between `sorted()` and `list.sort()`.\n",
            "* **`sort()` vs. `sorted()` Distinction:**  The code clearly distinguishes between:\n",
            "    * `sorted(my_list)`:  Returns a *new* sorted list. The original `my_list` remains unchanged.\n",
            "    * `my_list.sort()`: Sorts the list *in-place*. The original `my_list` is modified directly.\n",
            "\n",
            "How to choose between `sorted()` and `list.sort()`:\n",
            "\n",
            "* **`sorted()` (preferred in most cases):** Use this if you need to keep the original list intact and create a new sorted list.  It's generally safer and more flexible.\n",
            "* **`list.sort()`:** Use this *only* if you are certain you want to modify the original list directly and don't need to preserve a copy.  It can be slightly more efficient if you don't need the original.\n",
            "\n"
          ]
        }
      ]
    },
    {
      "cell_type": "code",
      "source": [],
      "metadata": {
        "id": "zkndznb2ZM0y"
      },
      "execution_count": null,
      "outputs": []
    },
    {
      "source": [
        "from google import genai\n",
        "from google.generativeai import types\n",
        "\n",
        "client = genai.Client(api_key=GOOGLE_API_KEY) #"
      ],
      "cell_type": "code",
      "metadata": {
        "id": "SAjBPQtAZSuI"
      },
      "execution_count": 20,
      "outputs": []
    },
    {
      "cell_type": "code",
      "source": [],
      "metadata": {
        "id": "OXdsDWTIZdR8"
      },
      "execution_count": null,
      "outputs": []
    }
  ]
}